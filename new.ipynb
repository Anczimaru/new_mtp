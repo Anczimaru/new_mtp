{
 "cells": [
  {
   "cell_type": "code",
   "execution_count": 14,
   "metadata": {},
   "outputs": [],
   "source": [
    "import sys\n",
    "import os\n",
    "import numpy as np\n",
    "import tensorflow as tf\n",
    "\n",
    "def load_dataset_fn(nth, src_dir=\"./data\"):\n",
    "    \"\"\"\n",
    "    Handles importing data from file to memory, also randomizes it and its labels\n",
    "    \"\"\"\n",
    "    \n",
    "    nth=str(int(nth))\n",
    "    src_dir = os.path.join(src_dir,\"Dataset\")\n",
    "    dataset_name = \"data\"+nth+\".npy\"\n",
    "    label_name = \"label\"+nth+\".npy\"\n",
    "    dataset_file = os.path.join(src_dir,dataset_name)\n",
    "    label_name = os.path.join(src_dir,label_name)\n",
    "    dataset = np.load(dataset_file)\n",
    "    labels = np.load(label_name)\n",
    "    dataset = dataset.astype(np.float32)\n",
    "    labels = labels[:,[0,1,2,3,4]].astype(np.float32)\n",
    "    dataset, labels = randomize(dataset,labels)\n",
    "    return dataset, labels\n",
    "   \n",
    "def randomize(dataset, labels):\n",
    "    permutation = np.random.permutation(labels.shape[0])\n",
    "    shuffled_dataset = tf.convert_to_tensor(dataset[permutation])\n",
    "    shuffled_labels = tf.convert_to_tensor(labels[permutation])\n",
    "    return shuffled_dataset, shuffled_labels\n"
   ]
  },
  {
   "cell_type": "code",
   "execution_count": 15,
   "metadata": {},
   "outputs": [
    {
     "name": "stdout",
     "output_type": "stream",
     "text": [
      "(20, 256, 256, 3)\n",
      "(20, 5)\n"
     ]
    }
   ],
   "source": [
    "x,y = load_dataset_fn(1)\n",
    "print(x.shape)\n",
    "print(y.shape)"
   ]
  },
  {
   "cell_type": "code",
   "execution_count": null,
   "metadata": {},
   "outputs": [],
   "source": []
  }
 ],
 "metadata": {
  "kernelspec": {
   "display_name": "Python 3",
   "language": "python",
   "name": "python3"
  },
  "language_info": {
   "codemirror_mode": {
    "name": "ipython",
    "version": 3
   },
   "file_extension": ".py",
   "mimetype": "text/x-python",
   "name": "python",
   "nbconvert_exporter": "python",
   "pygments_lexer": "ipython3",
   "version": "3.6.6"
  }
 },
 "nbformat": 4,
 "nbformat_minor": 2
}
