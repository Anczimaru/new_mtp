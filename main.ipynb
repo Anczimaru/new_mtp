{
 "cells": [
  {
   "cell_type": "code",
   "execution_count": 1,
   "metadata": {},
   "outputs": [
    {
     "name": "stdout",
     "output_type": "stream",
     "text": [
      "loaded libs\n",
      "loaded params\n"
     ]
    }
   ],
   "source": [
    "\n",
    "# coding: utf-8\n",
    "\n",
    "# In[1]:\n",
    "\n",
    "\n",
    "import tensorflow as tf\n",
    "import sys\n",
    "import os\n",
    "import config\n",
    "import shutil\n",
    "import my_tools\n",
    "import numpy as np\n",
    "from model import Model as Model\n",
    "import random\n",
    "\n",
    "print(\"loaded libs\")\n",
    "\n",
    "\n",
    "# In[2]:\n",
    "\n",
    "\n",
    "params = {\"root_result_dir\": config.RESULT_DIR,\n",
    "          \"learning_rate\": 1e-4,\n",
    "          \"img_size\": config.CNN_IN_HEIGHT,\n",
    "          \"num_channels\":config.CNN_IN_CH,\n",
    "          \"num_classes\": config.CNN_OUTPUT_SIZE,\n",
    "          \"batch_size\": config.BATCH_SIZE,\n",
    "          \"keep_probability\": config.KEEP_PROB,\n",
    "          \"print_nth_step\": config.PRINT_NTH}\n",
    "print(\"loaded params\")\n",
    "\n",
    "\n",
    "\n",
    "\n",
    "\n"
   ]
  },
  {
   "cell_type": "code",
   "execution_count": 5,
   "metadata": {},
   "outputs": [],
   "source": [
    "\n"
   ]
  },
  {
   "cell_type": "code",
   "execution_count": 6,
   "metadata": {},
   "outputs": [],
   "source": [
    "def main():\n",
    "    log_dir = get_log_dir_name()\n",
    "   \n",
    "\n",
    "\n"
   ]
  },
  {
   "cell_type": "code",
   "execution_count": 7,
   "metadata": {},
   "outputs": [
    {
     "name": "stdout",
     "output_type": "stream",
     "text": [
      "do you want to load existing directory?[y/n]n\n",
      "Do you wish to create new directory?[y/n]y\n",
      "results/lr_1e-04_classes_3_delta\n",
      "proceed?[y/n]y\n",
      "results/lr_1e-04_classes_3_delta\n"
     ]
    }
   ],
   "source": [
    "if __name__ == '__main__':\n",
    "    main()"
   ]
  },
  {
   "cell_type": "code",
   "execution_count": null,
   "metadata": {},
   "outputs": [],
   "source": [
    "\"\"\"\n",
    "tensorboard --logdir=\"results/\"\n",
    "\"\"\""
   ]
  }
 ],
 "metadata": {
  "celltoolbar": "Tags",
  "kernelspec": {
   "display_name": "Python 3",
   "language": "python",
   "name": "python3"
  },
  "language_info": {
   "codemirror_mode": {
    "name": "ipython",
    "version": 3
   },
   "file_extension": ".py",
   "mimetype": "text/x-python",
   "name": "python",
   "nbconvert_exporter": "python",
   "pygments_lexer": "ipython3",
   "version": "3.6.5"
  }
 },
 "nbformat": 4,
 "nbformat_minor": 2
}
