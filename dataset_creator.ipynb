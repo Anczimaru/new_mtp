{
 "cells": [
  {
   "cell_type": "code",
   "execution_count": 1,
   "metadata": {},
   "outputs": [],
   "source": [
    "import sys\n",
    "import PIL\n",
    "import numpy as np\n",
    "import tensorflow as tf\n",
    "import config\n",
    "import os\n",
    "from matplotlib import pyplot as plt\n",
    "import my_tools\n",
    "from my_tools import get_image_with_label as get_image"
   ]
  },
  {
   "cell_type": "code",
   "execution_count": 2,
   "metadata": {},
   "outputs": [],
   "source": [
    "img_size = config.CNN_IN_HEIGHT\n",
    "src_dir = config.PIC_SRC_DIR\n",
    "dst_dir = config.DATA_DIR\n",
    "src_labels = config.LABEL_ORG"
   ]
  },
  {
   "cell_type": "code",
   "execution_count": 3,
   "metadata": {},
   "outputs": [],
   "source": [
    "#Get conversions for TFRecord type file\n",
    "def to_float_convert(value):\n",
    "    return tf.train.Feature(float_list=tf.train.FloatList(value=[value]))\n",
    "def to_int_convert(value):\n",
    "    return tf.train.Feature(int64_list=tf.train.Int64List(value=[value]))\n",
    "def to_bytes_convert(value):\n",
    "    return tf.train.Feature(bytes_list=tf.train.BytesList(value=[value]))"
   ]
  },
  {
   "cell_type": "code",
   "execution_count": 4,
   "metadata": {},
   "outputs": [],
   "source": [
    "def createTFRecord(file_name, index):\n",
    "    \"\"\"\n",
    "    Codes data into TFRecord and according data type\n",
    "    \"\"\"\n",
    "    path = os.path.join(config.DATA_DIR, file_name)\n",
    "    writer = tf.python_io.TFRecordWriter(path)\n",
    "    for i in range(len(index)):\n",
    "        img, label = get_image(index[i])\n",
    "        clas = label[0].astype(np.int32)\n",
    "        feature = {\"image\" : to_bytes_convert(img.tobytes()),\n",
    "                   \"class\" : to_int_convert(clas),\n",
    "                   \"x1\" : to_float_convert(label[1]),\n",
    "                   \"y1\" : to_float_convert(label[2]),\n",
    "                   \"x2\" : to_float_convert(label[3]),\n",
    "                   \"y2\" : to_float_convert(label[4]),\n",
    "                   \"index\" : to_int_convert(index[i])\n",
    "                          \n",
    "                  }\n",
    "        \n",
    "        example = tf.train.Example(features=tf.train.Features(feature=feature))\n",
    "        writer.write(example.SerializeToString())\n",
    "        \n",
    "    writer.close()\n",
    "    sys.stdout.flush()\n",
    "        \n",
    "        "
   ]
  },
  {
   "cell_type": "code",
   "execution_count": 5,
   "metadata": {},
   "outputs": [],
   "source": [
    "def main(src_dir, dst_dir, src_labels, force = False):\n",
    "    \"\"\"\n",
    "    Creates 3 datasets divided 6:2:2, train,test,val\n",
    "    \"\"\"\n",
    "    labels = np.load(src_labels)\n",
    "    files = os.listdir(src_dir)\n",
    "    if len(files) == labels.shape[0]:\n",
    "        print(\"Same ammount of labels and files\")\n",
    "    names = config.TFRECORD_NAMES\n",
    "    if force == True:\n",
    "        for n in range(0,3):\n",
    "            to_rm = os.path.join(config.DATA_DIR, names[n])\n",
    "            if os.path.exists(to_rm):   \n",
    "                print(\"removing\")\n",
    "                os.remove(to_rm)\n",
    "                \n",
    "    index = np.random.permutation(labels.shape[0])\n",
    "    train_index = index[0:int(0.6*len(index))]\n",
    "    test_index = index[int(0.6*len(index)):int(0.8*len(index))]\n",
    "    val_index = index[int(0.8*len(index)):]\n",
    "    \n",
    "    createTFRecord(names[0], train_index)\n",
    "    print(\"created train record\")\n",
    "    #createTFRecord(names[1], test_index)\n",
    "    print(\"created test record\")\n",
    "    #createTFRecord(names[2], val_index)\n",
    "    print(\"created val record\")"
   ]
  },
  {
   "cell_type": "code",
   "execution_count": 6,
   "metadata": {},
   "outputs": [
    {
     "name": "stdout",
     "output_type": "stream",
     "text": [
      "Same ammount of labels and files\n",
      "removing\n",
      "created train record\n",
      "created test record\n",
      "created val record\n"
     ]
    }
   ],
   "source": [
    "if __name__ == '__main__' :\n",
    "    main(src_dir, dst_dir, src_labels, force = True)"
   ]
  },
  {
   "cell_type": "code",
   "execution_count": null,
   "metadata": {},
   "outputs": [],
   "source": []
  }
 ],
 "metadata": {
  "kernelspec": {
   "display_name": "Python 3",
   "language": "python",
   "name": "python3"
  },
  "language_info": {
   "codemirror_mode": {
    "name": "ipython",
    "version": 3
   },
   "file_extension": ".py",
   "mimetype": "text/x-python",
   "name": "python",
   "nbconvert_exporter": "python",
   "pygments_lexer": "ipython3",
   "version": "3.6.6"
  }
 },
 "nbformat": 4,
 "nbformat_minor": 2
}
